{
 "cells": [
  {
   "cell_type": "code",
   "execution_count": 1,
   "metadata": {},
   "outputs": [],
   "source": [
    "prices = {\n",
    "    \"box_of_spaghetti\" : 4 ,\n",
    "    \"lasagna\" : 5,\n",
    "    \"hamburger\" : 2\n",
    "  }\n",
    "\n",
    "quantity = {\n",
    "    \"box_of_spaghetti\" : 6 ,\n",
    "    \"lasagna\" : 8,\n",
    "    \"hamburger\" : 0\n",
    "}"
   ]
  },
  {
   "cell_type": "code",
   "execution_count": 5,
   "metadata": {},
   "outputs": [
    {
     "name": "stdout",
     "output_type": "stream",
     "text": [
      "64\n"
     ]
    }
   ],
   "source": [
    "total = 0;\n",
    "# this is also known as rolling sum\n",
    "for item in prices:\n",
    "    item_price = prices[item];\n",
    "    item_quantity = quantity[item];\n",
    "    total = total + item_price * item_quantity;\n",
    "print(total)"
   ]
  },
  {
   "cell_type": "code",
   "execution_count": null,
   "metadata": {},
   "outputs": [],
   "source": []
  }
 ],
 "metadata": {
  "kernelspec": {
   "display_name": "Python 3",
   "language": "python",
   "name": "python3"
  },
  "language_info": {
   "codemirror_mode": {
    "name": "ipython",
    "version": 3
   },
   "file_extension": ".py",
   "mimetype": "text/x-python",
   "name": "python",
   "nbconvert_exporter": "python",
   "pygments_lexer": "ipython3",
   "version": "3.7.6"
  }
 },
 "nbformat": 4,
 "nbformat_minor": 4
}
